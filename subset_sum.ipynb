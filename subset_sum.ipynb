{
 "cells": [
  {
   "cell_type": "markdown",
   "id": "2324b908",
   "metadata": {},
   "source": [
    "# EXPERIMENT4: SUBSET SUM PROBLEM"
   ]
  },
  {
   "cell_type": "markdown",
   "id": "113cfbaf",
   "metadata": {},
   "source": [
    "# E4.1:Implementation using bfs"
   ]
  },
  {
   "cell_type": "code",
   "execution_count": 28,
   "id": "78909714",
   "metadata": {},
   "outputs": [
    {
     "name": "stdout",
     "output_type": "stream",
     "text": [
      "(2, 4)\n"
     ]
    }
   ],
   "source": [
    "def subsetsum(graph, target):\n",
    "    # Initialize the queue with all nodes in the graph\n",
    "    queue = [i for i in graph]\n",
    "    # Create a set to keep track of visited nodes\n",
    "    visit = set()\n",
    "   \n",
    "    # Continue processing until the queue is empty\n",
    "    while queue:\n",
    "        # Remove and return the first element from the queue (FIFO)\n",
    "        currentnode = queue.pop(0)\n",
    "        # Add the current node to the visited set\n",
    "        visit.add(currentnode)\n",
    "        \n",
    "        # Check all neighbors of the current node\n",
    "        for neighbour in graph[currentnode]:\n",
    "            # If the neighbor has not been visited\n",
    "            if neighbour not in visit:\n",
    "                # Check if the sum of current node and neighbor equals the target\n",
    "                if currentnode + neighbour == target:\n",
    "                    # If the target sum is found, return the pair (currentnode, neighbour)\n",
    "                    return (currentnode, neighbour)\n",
    "                # Add the neighbor to the queue for further exploration\n",
    "                queue.append(neighbour)\n",
    "    \n",
    "    # If no pair with the target sum is found, return None\n",
    "    return None\n",
    "\n",
    "# Define the graph as an adjacency list\n",
    "graph = {1: [2, 3], 2: [1, 4], 3: [1, 4], 4: [2, 3]}\n",
    "\n",
    "# Define the target sum we want to achieve\n",
    "target = 6\n",
    "\n",
    "# Call the subsetsum function with the graph and target\n",
    "result = subsetsum(graph, target)\n",
    "\n",
    "# Print the result\n",
    "print(result)\n"
   ]
  },
  {
   "cell_type": "markdown",
   "id": "7f747202",
   "metadata": {},
   "source": [
    "# E4.2:Implementation using dfs"
   ]
  },
  {
   "cell_type": "code",
   "execution_count": 29,
   "id": "c4a9cea2",
   "metadata": {},
   "outputs": [
    {
     "name": "stdout",
     "output_type": "stream",
     "text": [
      "(5, 4)\n"
     ]
    }
   ],
   "source": [
    "def dfs(node, graph, target, visited):\n",
    "    # Base case: if the node has already been visited, return None\n",
    "    if node in visited:\n",
    "        return None\n",
    "\n",
    "    # Mark the current node as visited\n",
    "    visited.add(node)\n",
    "\n",
    "    # Explore each neighbor of the current node\n",
    "    for neighbour in graph[node]:\n",
    "        # If the neighbor has not been visited yet\n",
    "        if neighbour not in visited:\n",
    "            # Check if the sum of the current node and the neighbor equals the target\n",
    "            if node + neighbour == target:\n",
    "                # If the sum matches the target, return the pair (node, neighbour)\n",
    "                return (node, neighbour)\n",
    "\n",
    "            # Recursively call dfs for the neighbor\n",
    "            result = dfs(neighbour, graph, target, visited)\n",
    "            # If a valid pair is found in the recursive call, return it\n",
    "            if result:\n",
    "                return result\n",
    "\n",
    "def subsetsum(graph, target):\n",
    "    # Initialize a set to keep track of visited nodes\n",
    "    visited = set()\n",
    "    # Iterate over each node in the graph\n",
    "    for node in graph:\n",
    "        # If the node has not been visited\n",
    "        if node not in visited:\n",
    "            # Perform DFS starting from the node\n",
    "            result = dfs(node, graph, target, visited)\n",
    "            # If a valid pair is found, return it\n",
    "            if result:\n",
    "                return result\n",
    "    # If no pair with the target sum is found, return None\n",
    "    return None\n",
    "\n",
    "# Define the graph as an adjacency list\n",
    "graph = {\n",
    "    1: [2, 3],\n",
    "    2: [5],\n",
    "    3: [7, 6],\n",
    "    4: [5],\n",
    "    5: [2, 4],\n",
    "    6: [3],\n",
    "    7: [3]\n",
    "}\n",
    "\n",
    "# Define the target sum we want to achieve\n",
    "target = 9\n",
    "\n",
    "# Call the subsetsum function with the graph and target\n",
    "result = subsetsum(graph, target)\n",
    "\n",
    "# Print the result\n",
    "print(result)\n"
   ]
  },
  {
   "cell_type": "markdown",
   "id": "d0973247",
   "metadata": {},
   "source": [
    "# E4.3:Implementation using set"
   ]
  },
  {
   "cell_type": "code",
   "execution_count": 26,
   "id": "d2882821",
   "metadata": {},
   "outputs": [
    {
     "name": "stdout",
     "output_type": "stream",
     "text": [
      "(2, 7)\n"
     ]
    }
   ],
   "source": [
    "def find_pair(graph, target):\n",
    "    # Create a set to store the values we have seen so far\n",
    "    seen = set()\n",
    "    \n",
    "    # Iterate over each node in the graph\n",
    "    for node in graph:\n",
    "        # Check each neighbor of the current node\n",
    "        for neighbor in graph[node]:\n",
    "            # Check if the complement of this neighbor (target - neighbor) is in the set\n",
    "            num = target - neighbor\n",
    "            if num in seen:\n",
    "                # If found, return the pair\n",
    "                return (num, neighbor)\n",
    "            # Add the current node to the set of seen values\n",
    "            seen.add(node)\n",
    "    \n",
    "    # If no pair found, return None\n",
    "    return None\n",
    "\n",
    "# Define the graph as an adjacency list\n",
    "graph = {\n",
    "    1: [2, 3],\n",
    "    2: [5],\n",
    "    3: [7, 6],\n",
    "    4: [5],\n",
    "    5: [2, 4],\n",
    "    6: [3],\n",
    "    7: [3]\n",
    "}\n",
    "\n",
    "# Define the target sum we want to achieve\n",
    "target = 9\n",
    "\n",
    "# Call the find_pair_with_target_sum function with the graph and target\n",
    "result = find_pair(graph, target)\n",
    "\n",
    "# Print the result\n",
    "print(result)\n"
   ]
  },
  {
   "cell_type": "code",
   "execution_count": null,
   "id": "6a8feca4",
   "metadata": {},
   "outputs": [],
   "source": []
  }
 ],
 "metadata": {
  "kernelspec": {
   "display_name": "Python 3 (ipykernel)",
   "language": "python",
   "name": "python3"
  },
  "language_info": {
   "codemirror_mode": {
    "name": "ipython",
    "version": 3
   },
   "file_extension": ".py",
   "mimetype": "text/x-python",
   "name": "python",
   "nbconvert_exporter": "python",
   "pygments_lexer": "ipython3",
   "version": "3.8.10"
  }
 },
 "nbformat": 4,
 "nbformat_minor": 5
}
