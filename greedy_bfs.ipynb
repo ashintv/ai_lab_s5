{
 "cells": [
  {
   "cell_type": "code",
   "execution_count": 42,
   "id": "39a136ae-7913-4ab3-95a1-3f3364654031",
   "metadata": {},
   "outputs": [],
   "source": [
    "visited = set()\n",
    "import queue"
   ]
  },
  {
   "cell_type": "code",
   "execution_count": 44,
   "id": "5225cb6b-e271-4686-94bc-cbd3cc89128f",
   "metadata": {},
   "outputs": [],
   "source": [
    "def find_next_node(start):\n",
    "    shortest=9999\n",
    "    for neighbour in graph[start]:\n",
    "        if heuristic[neighbour] < shortest and neighbour not in visited:\n",
    "            next_way = neighbour\n",
    "            shortest = heuristic[next_way]\n",
    "    if shortest == 0:\n",
    "        return next_way,True\n",
    "    return next_way,False\n",
    " \n"
   ]
  },
  {
   "cell_type": "code",
   "execution_count": 46,
   "id": "5f89b061-c6e2-461c-b9d1-a2735464d8e8",
   "metadata": {},
   "outputs": [],
   "source": [
    "def greedy_bfs(next_node):\n",
    "    q = queue.Queue()\n",
    "    q.put(next_node)\n",
    "    path = [next_node]\n",
    "    path_find = False\n",
    "    while not path_find:\n",
    "        next_node,path_find = find_next_node(next_node)\n",
    "        path.append(next_node)\n",
    "        visited.add(next_node)\n",
    "    print(path)\n",
    "    "
   ]
  },
  {
   "cell_type": "code",
   "execution_count": 48,
   "id": "4f582c75-6c34-440a-8353-2c4abe50bc53",
   "metadata": {},
   "outputs": [
    {
     "name": "stdout",
     "output_type": "stream",
     "text": [
      "['P', 'C', 'U', 'S']\n"
     ]
    }
   ],
   "source": [
    "graph = {\n",
    " \"P\": [\"R\", \"C\", \"A\"], \n",
    " \"A\": [\"M\"], \n",
    " \"M\": [\"L\"], \n",
    " \"N\": [\"S\"], \n",
    " \"S\": [], \n",
    " \"C\": [\"U\", \"R\"], \n",
    " \"U\": [\"N\", \"S\"], \n",
    " \"E\": [\"U\", \"S\"],\n",
    " \"R\": [\"E\"],\n",
    " \"L\": [\"N\"]     \n",
    "    \n",
    "}\n",
    "heuristic={\n",
    "    \"P\": 10, \"R\": 8, \"E\": 3, \"C\": 6, \"U\": 4, \"A\": 11, \"M\": 9, \"L\": 9, \"N\": 8, \"S\": 0\n",
    "}\n",
    "greedy_bfs('P')"
   ]
  },
  {
   "cell_type": "code",
   "execution_count": null,
   "id": "58c40b1a-1954-4f53-baef-ea1f0589d5ea",
   "metadata": {},
   "outputs": [],
   "source": []
  },
  {
   "cell_type": "code",
   "execution_count": null,
   "id": "f6c76076-c78f-4e3d-a9f3-3e2fa61bd9bd",
   "metadata": {},
   "outputs": [],
   "source": []
  }
 ],
 "metadata": {
  "kernelspec": {
   "display_name": "Python 3 (ipykernel)",
   "language": "python",
   "name": "python3"
  },
  "language_info": {
   "codemirror_mode": {
    "name": "ipython",
    "version": 3
   },
   "file_extension": ".py",
   "mimetype": "text/x-python",
   "name": "python",
   "nbconvert_exporter": "python",
   "pygments_lexer": "ipython3",
   "version": "3.12.4"
  }
 },
 "nbformat": 4,
 "nbformat_minor": 5
}
