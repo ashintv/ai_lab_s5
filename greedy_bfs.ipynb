{
 "cells": [
  {
   "cell_type": "code",
   "execution_count": 64,
   "id": "39a136ae-7913-4ab3-95a1-3f3364654031",
   "metadata": {},
   "outputs": [],
   "source": [
    "visited = set()"
   ]
  },
  {
   "cell_type": "code",
   "execution_count": 66,
   "id": "5225cb6b-e271-4686-94bc-cbd3cc89128f",
   "metadata": {},
   "outputs": [],
   "source": [
    "def find_next_node(start):\n",
    "    shortest=9999\n",
    "    for neighbour in graph[start]:\n",
    "        if heuristic[neighbour] < shortest and neighbour not in visited:\n",
    "            next_way = neighbour\n",
    "            shortest = heuristic[next_way]\n",
    "    if shortest == 0:\n",
    "        return next_way,True\n",
    "    return next_way,False\n",
    " \n"
   ]
  },
  {
   "cell_type": "code",
   "execution_count": 68,
   "id": "5f89b061-c6e2-461c-b9d1-a2735464d8e8",
   "metadata": {},
   "outputs": [],
   "source": [
    "def greedy_bfs(next_node):\n",
    "    path = [next_node]\n",
    "    path_find = False\n",
    "    while not path_find:\n",
    "        next_node,path_find = find_next_node(next_node)\n",
    "        path.append(next_node)\n",
    "        visited.add(next_node)\n",
    "    print(path)\n",
    "    "
   ]
  },
  {
   "cell_type": "code",
   "execution_count": 70,
   "id": "4f582c75-6c34-440a-8353-2c4abe50bc53",
   "metadata": {
    "panel-layout": {
     "height": 0,
     "visible": true,
     "width": 100
    }
   },
   "outputs": [
    {
     "name": "stdout",
     "output_type": "stream",
     "text": [
      "['A', 'C', 'G', 'K']\n"
     ]
    }
   ],
   "source": [
    "graph = {\n",
    " 'A': ['B', 'C'],\n",
    "    'B': ['D', 'E'],\n",
    "    'C': ['F', 'G'],\n",
    "    'D': ['H'],\n",
    "    'E': ['I'],\n",
    "    'F': ['J'],\n",
    "    'G': ['K'],\n",
    "    'H': [],\n",
    "    'I': [],\n",
    "    'J': [],\n",
    "    'K': []\n",
    "}\n",
    "heuristic={\n",
    "    'A': 10,\n",
    "    'B': 8,\n",
    "    'C': 6,\n",
    "    'D': 7,\n",
    "    'E': 4,\n",
    "    'F': 5,\n",
    "    'G': 3,\n",
    "    'H': 0,\n",
    "    'I': 2,\n",
    "    'J': 1,\n",
    "    'K': 0  # \n",
    "}\n",
    "greedy_bfs('A')"
   ]
  },
  {
   "cell_type": "code",
   "execution_count": null,
   "id": "58c40b1a-1954-4f53-baef-ea1f0589d5ea",
   "metadata": {},
   "outputs": [],
   "source": []
  },
  {
   "cell_type": "code",
   "execution_count": null,
   "id": "f6c76076-c78f-4e3d-a9f3-3e2fa61bd9bd",
   "metadata": {},
   "outputs": [],
   "source": []
  },
  {
   "cell_type": "code",
   "execution_count": null,
   "id": "30419beb-9494-471f-b5f2-88927d70540d",
   "metadata": {},
   "outputs": [],
   "source": []
  }
 ],
 "metadata": {
  "kernelspec": {
   "display_name": "Python 3 (ipykernel)",
   "language": "python",
   "name": "python3"
  },
  "language_info": {
   "codemirror_mode": {
    "name": "ipython",
    "version": 3
   },
   "file_extension": ".py",
   "mimetype": "text/x-python",
   "name": "python",
   "nbconvert_exporter": "python",
   "pygments_lexer": "ipython3",
   "version": "3.12.4"
  },
  "panel-cell-order": [
   "4f582c75-6c34-440a-8353-2c4abe50bc53"
  ]
 },
 "nbformat": 4,
 "nbformat_minor": 5
}
